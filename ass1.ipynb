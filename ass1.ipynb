{
 "cells": [
  {
   "cell_type": "markdown",
   "id": "e780ab3f",
   "metadata": {},
   "source": [
    "# 3 days = 50litres\n",
    "# therefore 6 days = 100 litres of fuel\n",
    "# a = 6 days\n",
    "# b = 4 weeks\n",
    "# c = 3 months\n",
    "a = input('enter amount of fuel used in 6 days: ')\n",
    "b=int(a)*int(4)\n",
    "print(b, 'litres of fuel used in 4 weeks')\n",
    "# since there's 4 weeks in a month 3 months will be 4 weeks times three\n",
    "c= int(b)*int(3)\n",
    "print(c, 'litres of fuel used in three months')"
   ]
  }
 ],
 "metadata": {
  "kernelspec": {
   "display_name": "Python 3 (ipykernel)",
   "language": "python",
   "name": "python3"
  },
  "language_info": {
   "codemirror_mode": {
    "name": "ipython",
    "version": 3
   },
   "file_extension": ".py",
   "mimetype": "text/x-python",
   "name": "python",
   "nbconvert_exporter": "python",
   "pygments_lexer": "ipython3",
   "version": "3.9.13"
  }
 },
 "nbformat": 4,
 "nbformat_minor": 5
}
